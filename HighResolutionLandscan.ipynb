{
 "cells": [
  {
   "cell_type": "code",
   "execution_count": 9,
   "metadata": {},
   "outputs": [],
   "source": [
    "import pandas as pd\n",
    "import spatialpandas as spd\n",
    "import geopandas as gpd\n",
    "import rioxarray\n",
    "import numpy as np\n",
    "import xarray as xr\n",
    "import matplotlib.pyplot as plt\n",
    "import math\n",
    "import multiprocessing as mp\n",
    "import time\n",
    "import logging\n",
    "logging.basicConfig(level=logging.INFO)\n",
    "import landscan_census as lc"
   ]
  },
  {
   "cell_type": "markdown",
   "metadata": {},
   "source": [
    "# Landscan to Census Tract Join\n",
    "\n",
    "Load the landscan 3 arc second rasters"
   ]
  },
  {
   "cell_type": "code",
   "execution_count": 2,
   "metadata": {},
   "outputs": [],
   "source": [
    "tx_night, tx_day = lc.load_landscan(\n",
    "    night_path='/Users/kpierce/landscan/conus_night_split/conus_night25.TIF',\n",
    "    day_path='/Users/kpierce/landscan/conus_day_split/conus_day25.TIF'\n",
    ")"
   ]
  },
  {
   "cell_type": "markdown",
   "metadata": {},
   "source": [
    "Load the census tract shapefile"
   ]
  },
  {
   "cell_type": "code",
   "execution_count": 3,
   "metadata": {},
   "outputs": [],
   "source": [
    "tracts = gpd.read_file('/Users/kpierce/CooksProTX/spatial/tigris/texas_census_tracts/census_tracts_2019.shp')"
   ]
  },
  {
   "cell_type": "markdown",
   "metadata": {},
   "source": [
    "Instantiate a custom class (from `landscan_census.py`) for manipulating the landscan and tract data"
   ]
  },
  {
   "cell_type": "code",
   "execution_count": 4,
   "metadata": {},
   "outputs": [],
   "source": [
    "ll = lc.Landscan(night_raster=tx_night, day_raster=tx_day, shp=tracts)"
   ]
  },
  {
   "cell_type": "markdown",
   "metadata": {},
   "source": [
    "Calculate the average population"
   ]
  },
  {
   "cell_type": "code",
   "execution_count": 5,
   "metadata": {},
   "outputs": [],
   "source": [
    "ll.average_population()"
   ]
  },
  {
   "cell_type": "markdown",
   "metadata": {},
   "source": [
    "Perform a spatial sort to speed up the eventual spatial join. The `Landscan.dask_spatial_sort` method saves the output data to the parquet format and then reloads them for lazy computation with dask in downstream steps."
   ]
  },
  {
   "cell_type": "code",
   "execution_count": 6,
   "metadata": {},
   "outputs": [
    {
     "name": "stderr",
     "output_type": "stream",
     "text": [
      "INFO:root:Spatial sort required 873.3697950839996 seconds.\n"
     ]
    }
   ],
   "source": [
    "ll.dask_spatial_sort(savepath='/Users/kpierce/landscan/workflow_testing/texas_3arcsecond_spatial_sort.parquet')"
   ]
  },
  {
   "cell_type": "code",
   "execution_count": 7,
   "metadata": {},
   "outputs": [
    {
     "data": {
      "text/html": [
       "<div><strong>Dask DataFrame Structure:</strong></div>\n",
       "<div>\n",
       "<style scoped>\n",
       "    .dataframe tbody tr th:only-of-type {\n",
       "        vertical-align: middle;\n",
       "    }\n",
       "\n",
       "    .dataframe tbody tr th {\n",
       "        vertical-align: top;\n",
       "    }\n",
       "\n",
       "    .dataframe thead th {\n",
       "        text-align: right;\n",
       "    }\n",
       "</style>\n",
       "<table border=\"1\" class=\"dataframe\">\n",
       "  <thead>\n",
       "    <tr style=\"text-align: right;\">\n",
       "      <th></th>\n",
       "      <th>position</th>\n",
       "      <th>band</th>\n",
       "      <th>x</th>\n",
       "      <th>y</th>\n",
       "      <th>spatial_ref</th>\n",
       "      <th>night_population</th>\n",
       "      <th>day_population</th>\n",
       "      <th>average_population</th>\n",
       "    </tr>\n",
       "    <tr>\n",
       "      <th>npartitions=208</th>\n",
       "      <th></th>\n",
       "      <th></th>\n",
       "      <th></th>\n",
       "      <th></th>\n",
       "      <th></th>\n",
       "      <th></th>\n",
       "      <th></th>\n",
       "      <th></th>\n",
       "    </tr>\n",
       "  </thead>\n",
       "  <tbody>\n",
       "    <tr>\n",
       "      <th></th>\n",
       "      <td>point[float64]</td>\n",
       "      <td>int64</td>\n",
       "      <td>float64</td>\n",
       "      <td>float64</td>\n",
       "      <td>int64</td>\n",
       "      <td>int64</td>\n",
       "      <td>int64</td>\n",
       "      <td>int64</td>\n",
       "    </tr>\n",
       "    <tr>\n",
       "      <th></th>\n",
       "      <td>...</td>\n",
       "      <td>...</td>\n",
       "      <td>...</td>\n",
       "      <td>...</td>\n",
       "      <td>...</td>\n",
       "      <td>...</td>\n",
       "      <td>...</td>\n",
       "      <td>...</td>\n",
       "    </tr>\n",
       "    <tr>\n",
       "      <th>...</th>\n",
       "      <td>...</td>\n",
       "      <td>...</td>\n",
       "      <td>...</td>\n",
       "      <td>...</td>\n",
       "      <td>...</td>\n",
       "      <td>...</td>\n",
       "      <td>...</td>\n",
       "      <td>...</td>\n",
       "    </tr>\n",
       "    <tr>\n",
       "      <th></th>\n",
       "      <td>...</td>\n",
       "      <td>...</td>\n",
       "      <td>...</td>\n",
       "      <td>...</td>\n",
       "      <td>...</td>\n",
       "      <td>...</td>\n",
       "      <td>...</td>\n",
       "      <td>...</td>\n",
       "    </tr>\n",
       "    <tr>\n",
       "      <th></th>\n",
       "      <td>...</td>\n",
       "      <td>...</td>\n",
       "      <td>...</td>\n",
       "      <td>...</td>\n",
       "      <td>...</td>\n",
       "      <td>...</td>\n",
       "      <td>...</td>\n",
       "      <td>...</td>\n",
       "    </tr>\n",
       "  </tbody>\n",
       "</table>\n",
       "</div>\n",
       "<div>Dask Name: from-delayed, 416 tasks</div>"
      ],
      "text/plain": [
       "Dask DaskGeoDataFrame Structure:\n",
       "                       position   band        x        y spatial_ref night_population day_population average_population\n",
       "npartitions=208                                                                                                        \n",
       "                 point[float64]  int64  float64  float64       int64            int64          int64              int64\n",
       "                            ...    ...      ...      ...         ...              ...            ...                ...\n",
       "...                         ...    ...      ...      ...         ...              ...            ...                ...\n",
       "                            ...    ...      ...      ...         ...              ...            ...                ...\n",
       "                            ...    ...      ...      ...         ...              ...            ...                ...\n",
       "Dask Name: from-delayed, 416 tasks"
      ]
     },
     "execution_count": 7,
     "metadata": {},
     "output_type": "execute_result"
    }
   ],
   "source": [
    "ll.average_raster_dask"
   ]
  },
  {
   "cell_type": "markdown",
   "metadata": {},
   "source": [
    "Convert the census tract `geopandas.GeoDataFrame` to a `spatialpandas.GeoDataFrame`"
   ]
  },
  {
   "cell_type": "code",
   "execution_count": 10,
   "metadata": {},
   "outputs": [],
   "source": [
    "ll.gpd_to_spd()"
   ]
  },
  {
   "cell_type": "code",
   "execution_count": 11,
   "metadata": {},
   "outputs": [
    {
     "data": {
      "text/html": [
       "<div>\n",
       "<style scoped>\n",
       "    .dataframe tbody tr th:only-of-type {\n",
       "        vertical-align: middle;\n",
       "    }\n",
       "\n",
       "    .dataframe tbody tr th {\n",
       "        vertical-align: top;\n",
       "    }\n",
       "\n",
       "    .dataframe thead th {\n",
       "        text-align: right;\n",
       "    }\n",
       "</style>\n",
       "<table border=\"1\" class=\"dataframe\">\n",
       "  <thead>\n",
       "    <tr style=\"text-align: right;\">\n",
       "      <th></th>\n",
       "      <th>GEOID</th>\n",
       "      <th>geometry</th>\n",
       "    </tr>\n",
       "  </thead>\n",
       "  <tbody>\n",
       "    <tr>\n",
       "      <th>0</th>\n",
       "      <td>48439121609</td>\n",
       "      <td>Polygon([[-97.233694, 32.671749999999996, -97....</td>\n",
       "    </tr>\n",
       "    <tr>\n",
       "      <th>1</th>\n",
       "      <td>48187210708</td>\n",
       "      <td>Polygon([[-98.26254, 29.578723999999998, -98.2...</td>\n",
       "    </tr>\n",
       "    <tr>\n",
       "      <th>2</th>\n",
       "      <td>48201550301</td>\n",
       "      <td>Polygon([[-95.43726699999999, 29.981033, -95.4...</td>\n",
       "    </tr>\n",
       "    <tr>\n",
       "      <th>3</th>\n",
       "      <td>48201550302</td>\n",
       "      <td>Polygon([[-95.463687, 30.007089999999998, -95....</td>\n",
       "    </tr>\n",
       "    <tr>\n",
       "      <th>4</th>\n",
       "      <td>48157675800</td>\n",
       "      <td>Polygon([[-96.088854, 29.60166, -96.088912, 29...</td>\n",
       "    </tr>\n",
       "  </tbody>\n",
       "</table>\n",
       "</div>"
      ],
      "text/plain": [
       "         GEOID                                           geometry\n",
       "0  48439121609  Polygon([[-97.233694, 32.671749999999996, -97....\n",
       "1  48187210708  Polygon([[-98.26254, 29.578723999999998, -98.2...\n",
       "2  48201550301  Polygon([[-95.43726699999999, 29.981033, -95.4...\n",
       "3  48201550302  Polygon([[-95.463687, 30.007089999999998, -95....\n",
       "4  48157675800  Polygon([[-96.088854, 29.60166, -96.088912, 29..."
      ]
     },
     "execution_count": 11,
     "metadata": {},
     "output_type": "execute_result"
    }
   ],
   "source": [
    "ll.spdf.head()"
   ]
  },
  {
   "cell_type": "markdown",
   "metadata": {},
   "source": [
    "Perform the spatial join on the sorted raster data. This join uses `dask`; the `.compute()` method forces the join calculation on the lazily-loaded spatially sorted data."
   ]
  },
  {
   "cell_type": "code",
   "execution_count": 12,
   "metadata": {},
   "outputs": [],
   "source": [
    "rdf = spd.sjoin(ll.average_raster_dask, ll.spdf, how='inner').compute()"
   ]
  },
  {
   "cell_type": "code",
   "execution_count": 14,
   "metadata": {},
   "outputs": [],
   "source": [
    "rdf = rdf.reset_index()"
   ]
  },
  {
   "cell_type": "code",
   "execution_count": 15,
   "metadata": {},
   "outputs": [
    {
     "data": {
      "text/html": [
       "<div>\n",
       "<style scoped>\n",
       "    .dataframe tbody tr th:only-of-type {\n",
       "        vertical-align: middle;\n",
       "    }\n",
       "\n",
       "    .dataframe tbody tr th {\n",
       "        vertical-align: top;\n",
       "    }\n",
       "\n",
       "    .dataframe thead th {\n",
       "        text-align: right;\n",
       "    }\n",
       "</style>\n",
       "<table border=\"1\" class=\"dataframe\">\n",
       "  <thead>\n",
       "    <tr style=\"text-align: right;\">\n",
       "      <th></th>\n",
       "      <th>hilbert_distance</th>\n",
       "      <th>position</th>\n",
       "      <th>band</th>\n",
       "      <th>x</th>\n",
       "      <th>y</th>\n",
       "      <th>spatial_ref</th>\n",
       "      <th>night_population</th>\n",
       "      <th>day_population</th>\n",
       "      <th>average_population</th>\n",
       "      <th>index_right</th>\n",
       "      <th>GEOID</th>\n",
       "    </tr>\n",
       "  </thead>\n",
       "  <tbody>\n",
       "    <tr>\n",
       "      <th>0</th>\n",
       "      <td>110794072</td>\n",
       "      <td>Point([-100.077083433025, 28.12874998448501])</td>\n",
       "      <td>1</td>\n",
       "      <td>-100.077083</td>\n",
       "      <td>28.128750</td>\n",
       "      <td>0</td>\n",
       "      <td>0</td>\n",
       "      <td>0</td>\n",
       "      <td>0</td>\n",
       "      <td>4374</td>\n",
       "      <td>48479001710</td>\n",
       "    </tr>\n",
       "    <tr>\n",
       "      <th>1</th>\n",
       "      <td>110794080</td>\n",
       "      <td>Point([-100.077916766355, 28.12958331781501])</td>\n",
       "      <td>1</td>\n",
       "      <td>-100.077917</td>\n",
       "      <td>28.129583</td>\n",
       "      <td>0</td>\n",
       "      <td>0</td>\n",
       "      <td>0</td>\n",
       "      <td>0</td>\n",
       "      <td>4374</td>\n",
       "      <td>48479001710</td>\n",
       "    </tr>\n",
       "    <tr>\n",
       "      <th>2</th>\n",
       "      <td>110794084</td>\n",
       "      <td>Point([-100.077083433025, 28.12958331781501])</td>\n",
       "      <td>1</td>\n",
       "      <td>-100.077083</td>\n",
       "      <td>28.129583</td>\n",
       "      <td>0</td>\n",
       "      <td>0</td>\n",
       "      <td>0</td>\n",
       "      <td>0</td>\n",
       "      <td>4374</td>\n",
       "      <td>48479001710</td>\n",
       "    </tr>\n",
       "    <tr>\n",
       "      <th>3</th>\n",
       "      <td>110794091</td>\n",
       "      <td>Point([-100.077083433025, 28.13041665114501])</td>\n",
       "      <td>1</td>\n",
       "      <td>-100.077083</td>\n",
       "      <td>28.130417</td>\n",
       "      <td>0</td>\n",
       "      <td>0</td>\n",
       "      <td>0</td>\n",
       "      <td>0</td>\n",
       "      <td>4374</td>\n",
       "      <td>48479001710</td>\n",
       "    </tr>\n",
       "    <tr>\n",
       "      <th>4</th>\n",
       "      <td>110794095</td>\n",
       "      <td>Point([-100.077916766355, 28.13041665114501])</td>\n",
       "      <td>1</td>\n",
       "      <td>-100.077917</td>\n",
       "      <td>28.130417</td>\n",
       "      <td>0</td>\n",
       "      <td>0</td>\n",
       "      <td>0</td>\n",
       "      <td>0</td>\n",
       "      <td>4374</td>\n",
       "      <td>48479001710</td>\n",
       "    </tr>\n",
       "  </tbody>\n",
       "</table>\n",
       "</div>"
      ],
      "text/plain": [
       "   hilbert_distance                                       position  band  \\\n",
       "0         110794072  Point([-100.077083433025, 28.12874998448501])     1   \n",
       "1         110794080  Point([-100.077916766355, 28.12958331781501])     1   \n",
       "2         110794084  Point([-100.077083433025, 28.12958331781501])     1   \n",
       "3         110794091  Point([-100.077083433025, 28.13041665114501])     1   \n",
       "4         110794095  Point([-100.077916766355, 28.13041665114501])     1   \n",
       "\n",
       "            x          y  spatial_ref  night_population  day_population  \\\n",
       "0 -100.077083  28.128750            0                 0               0   \n",
       "1 -100.077917  28.129583            0                 0               0   \n",
       "2 -100.077083  28.129583            0                 0               0   \n",
       "3 -100.077083  28.130417            0                 0               0   \n",
       "4 -100.077917  28.130417            0                 0               0   \n",
       "\n",
       "   average_population  index_right        GEOID  \n",
       "0                   0         4374  48479001710  \n",
       "1                   0         4374  48479001710  \n",
       "2                   0         4374  48479001710  \n",
       "3                   0         4374  48479001710  \n",
       "4                   0         4374  48479001710  "
      ]
     },
     "execution_count": 15,
     "metadata": {},
     "output_type": "execute_result"
    }
   ],
   "source": [
    "rdf.head()"
   ]
  },
  {
   "cell_type": "code",
   "execution_count": 30,
   "metadata": {},
   "outputs": [],
   "source": [
    "rdf = rdf.set_index('hilbert_distance')"
   ]
  },
  {
   "cell_type": "code",
   "execution_count": 24,
   "metadata": {},
   "outputs": [
    {
     "data": {
      "text/plain": [
       "(95118149, 10)"
      ]
     },
     "execution_count": 24,
     "metadata": {},
     "output_type": "execute_result"
    }
   ],
   "source": [
    "rdf.shape"
   ]
  },
  {
   "cell_type": "markdown",
   "metadata": {},
   "source": [
    "Over 95 million rows, yikes."
   ]
  },
  {
   "cell_type": "code",
   "execution_count": 26,
   "metadata": {},
   "outputs": [
    {
     "data": {
      "text/plain": [
       "spatialpandas.geodataframe.GeoDataFrame"
      ]
     },
     "execution_count": 26,
     "metadata": {},
     "output_type": "execute_result"
    }
   ],
   "source": [
    "type(rdf)"
   ]
  },
  {
   "cell_type": "markdown",
   "metadata": {},
   "source": [
    "Save this computationally expensive dataset"
   ]
  },
  {
   "cell_type": "code",
   "execution_count": 10,
   "metadata": {},
   "outputs": [],
   "source": [
    "from spatialpandas.io import to_parquet, read_parquet_dask, read_parquet"
   ]
  },
  {
   "cell_type": "code",
   "execution_count": 31,
   "metadata": {},
   "outputs": [],
   "source": [
    "rdf.to_parquet('/Users/kpierce/landscan/workflow_testing/texas_3arcsecond_tract_join_flat.parquet')"
   ]
  },
  {
   "cell_type": "markdown",
   "metadata": {},
   "source": [
    "# Landscan to SVI join on Census Tract FIPS\n",
    "\n",
    "## Interpolation for persons, housing units, and households\n",
    "\n",
    "Landscan provides us with a more accurate and more granular understanding of population distribution. The ACS provides us with coarse estimates of population distribution, and counts and percentages of the population falling into certain demographic categories.\n",
    "\n",
    "We calculate the count and percent of the population in different demographic categories at 30 arcsecond resolution under the following formula:\n",
    "\n",
    "Let $j$ = { *landscan cells* }, $k$ = { *census tracts* }, and $m$ = { *demographic subset variables from the ACS* }. \n",
    "\n",
    "The total population of a census tract estimated from landscan data is N$_{k}$ = $\\sum$N$_{jk}$ for $j$ landscan cells ${j}$ associated with census tract $k$ (1). \n",
    "\n",
    "The population weight (the fraction of the tract population in each landscan cell) is calculated as weight$_{jk}$ = N$_{jk}$ / N$_{k}$ (2). \n",
    "\n",
    "Following equations 1 and 2, the total number in each demographic category for each landscan cell is calculated as N$_{jm}$ = N$_{km}$ * weight$_{jk}$ for demographic category $m$ and census tract $k$ (3). \n",
    "\n",
    "Finally, the percentage of the population in each demographic category in each landscan cell is calculated as percent$_{jm}$ = min(100, N$_{jm}$ / N$_{jk}$) (4).\n",
    "\n",
    "Equation 4 accounts for the possibility that a census-derived population estimate in a demographic category may be larger than a landscan derived population total. These anomalies need further investigation, so the uncorrected percentages, which may range greater than 100%, are included in the outputs.\n",
    "\n",
    "In some cases, only a single landscan cell centroid will fall within a census tract. We do not consider that some fraction of the landscan cell may be outside of these census tracts in conducting the following interpolations.\n",
    "\n",
    "## Dollars\n",
    "\n",
    "We do not perform interopolation on variables measured in dollars."
   ]
  },
  {
   "cell_type": "code",
   "execution_count": 11,
   "metadata": {},
   "outputs": [],
   "source": [
    "import sqlite3"
   ]
  },
  {
   "cell_type": "code",
   "execution_count": 12,
   "metadata": {},
   "outputs": [],
   "source": [
    "db_name = '/Users/kpierce/protxdb/data/db/cooks_20210923.db'\n",
    "db_conn = sqlite3.connect(db_name)\n",
    "db_cursor = db_conn.cursor()"
   ]
  },
  {
   "cell_type": "markdown",
   "metadata": {},
   "source": [
    "Solve equation 1."
   ]
  },
  {
   "cell_type": "code",
   "execution_count": 13,
   "metadata": {},
   "outputs": [],
   "source": [
    "rdf = read_parquet('/Users/kpierce/landscan/workflow_testing/texas_3arcsecond_tract_join_flat.parquet')"
   ]
  },
  {
   "cell_type": "code",
   "execution_count": 14,
   "metadata": {},
   "outputs": [],
   "source": [
    "tract_totals = rdf[['GEOID', 'average_population']].groupby('GEOID').agg({'average_population': sum}).reset_index()"
   ]
  },
  {
   "cell_type": "code",
   "execution_count": 15,
   "metadata": {},
   "outputs": [
    {
     "data": {
      "text/plain": [
       "(5265, 2)"
      ]
     },
     "execution_count": 15,
     "metadata": {},
     "output_type": "execute_result"
    }
   ],
   "source": [
    "tract_totals.shape"
   ]
  },
  {
   "cell_type": "code",
   "execution_count": 16,
   "metadata": {},
   "outputs": [],
   "source": [
    "rdf_tract = pd.merge(rdf, tract_totals, on='GEOID', how='left')"
   ]
  },
  {
   "cell_type": "code",
   "execution_count": 39,
   "metadata": {},
   "outputs": [
    {
     "data": {
      "text/html": [
       "<div>\n",
       "<style scoped>\n",
       "    .dataframe tbody tr th:only-of-type {\n",
       "        vertical-align: middle;\n",
       "    }\n",
       "\n",
       "    .dataframe tbody tr th {\n",
       "        vertical-align: top;\n",
       "    }\n",
       "\n",
       "    .dataframe thead th {\n",
       "        text-align: right;\n",
       "    }\n",
       "</style>\n",
       "<table border=\"1\" class=\"dataframe\">\n",
       "  <thead>\n",
       "    <tr style=\"text-align: right;\">\n",
       "      <th></th>\n",
       "      <th>position</th>\n",
       "      <th>band</th>\n",
       "      <th>x</th>\n",
       "      <th>y</th>\n",
       "      <th>spatial_ref</th>\n",
       "      <th>night_population</th>\n",
       "      <th>day_population</th>\n",
       "      <th>average_population_x</th>\n",
       "      <th>index_right</th>\n",
       "      <th>GEOID</th>\n",
       "      <th>average_population_y</th>\n",
       "    </tr>\n",
       "  </thead>\n",
       "  <tbody>\n",
       "    <tr>\n",
       "      <th>0</th>\n",
       "      <td>Point([-100.077083433025, 28.12874998448501])</td>\n",
       "      <td>1</td>\n",
       "      <td>-100.077083</td>\n",
       "      <td>28.128750</td>\n",
       "      <td>0</td>\n",
       "      <td>0</td>\n",
       "      <td>0</td>\n",
       "      <td>0</td>\n",
       "      <td>4374</td>\n",
       "      <td>48479001710</td>\n",
       "      <td>2982</td>\n",
       "    </tr>\n",
       "    <tr>\n",
       "      <th>1</th>\n",
       "      <td>Point([-100.077916766355, 28.12958331781501])</td>\n",
       "      <td>1</td>\n",
       "      <td>-100.077917</td>\n",
       "      <td>28.129583</td>\n",
       "      <td>0</td>\n",
       "      <td>0</td>\n",
       "      <td>0</td>\n",
       "      <td>0</td>\n",
       "      <td>4374</td>\n",
       "      <td>48479001710</td>\n",
       "      <td>2982</td>\n",
       "    </tr>\n",
       "    <tr>\n",
       "      <th>2</th>\n",
       "      <td>Point([-100.077083433025, 28.12958331781501])</td>\n",
       "      <td>1</td>\n",
       "      <td>-100.077083</td>\n",
       "      <td>28.129583</td>\n",
       "      <td>0</td>\n",
       "      <td>0</td>\n",
       "      <td>0</td>\n",
       "      <td>0</td>\n",
       "      <td>4374</td>\n",
       "      <td>48479001710</td>\n",
       "      <td>2982</td>\n",
       "    </tr>\n",
       "    <tr>\n",
       "      <th>3</th>\n",
       "      <td>Point([-100.077083433025, 28.13041665114501])</td>\n",
       "      <td>1</td>\n",
       "      <td>-100.077083</td>\n",
       "      <td>28.130417</td>\n",
       "      <td>0</td>\n",
       "      <td>0</td>\n",
       "      <td>0</td>\n",
       "      <td>0</td>\n",
       "      <td>4374</td>\n",
       "      <td>48479001710</td>\n",
       "      <td>2982</td>\n",
       "    </tr>\n",
       "    <tr>\n",
       "      <th>4</th>\n",
       "      <td>Point([-100.077916766355, 28.13041665114501])</td>\n",
       "      <td>1</td>\n",
       "      <td>-100.077917</td>\n",
       "      <td>28.130417</td>\n",
       "      <td>0</td>\n",
       "      <td>0</td>\n",
       "      <td>0</td>\n",
       "      <td>0</td>\n",
       "      <td>4374</td>\n",
       "      <td>48479001710</td>\n",
       "      <td>2982</td>\n",
       "    </tr>\n",
       "  </tbody>\n",
       "</table>\n",
       "</div>"
      ],
      "text/plain": [
       "                                        position  band           x          y  \\\n",
       "0  Point([-100.077083433025, 28.12874998448501])     1 -100.077083  28.128750   \n",
       "1  Point([-100.077916766355, 28.12958331781501])     1 -100.077917  28.129583   \n",
       "2  Point([-100.077083433025, 28.12958331781501])     1 -100.077083  28.129583   \n",
       "3  Point([-100.077083433025, 28.13041665114501])     1 -100.077083  28.130417   \n",
       "4  Point([-100.077916766355, 28.13041665114501])     1 -100.077917  28.130417   \n",
       "\n",
       "   spatial_ref  night_population  day_population  average_population_x  \\\n",
       "0            0                 0               0                     0   \n",
       "1            0                 0               0                     0   \n",
       "2            0                 0               0                     0   \n",
       "3            0                 0               0                     0   \n",
       "4            0                 0               0                     0   \n",
       "\n",
       "   index_right        GEOID  average_population_y  \n",
       "0         4374  48479001710                  2982  \n",
       "1         4374  48479001710                  2982  \n",
       "2         4374  48479001710                  2982  \n",
       "3         4374  48479001710                  2982  \n",
       "4         4374  48479001710                  2982  "
      ]
     },
     "execution_count": 39,
     "metadata": {},
     "output_type": "execute_result"
    }
   ],
   "source": [
    "rdf_tract.head()"
   ]
  },
  {
   "cell_type": "markdown",
   "metadata": {},
   "source": [
    "Solve equation 2."
   ]
  },
  {
   "cell_type": "code",
   "execution_count": 17,
   "metadata": {},
   "outputs": [],
   "source": [
    "rdf_tract['population_weight'] = rdf_tract['average_population_x'] / rdf_tract['average_population_y']"
   ]
  },
  {
   "cell_type": "markdown",
   "metadata": {},
   "source": [
    "Solve equation 3."
   ]
  },
  {
   "cell_type": "code",
   "execution_count": 18,
   "metadata": {},
   "outputs": [],
   "source": [
    "people = pd.read_sql_query(\n",
    "    \"\"\"select * from demographics d \\\n",
    "    join display_data dd on d.DEMOGRAPHICS_NAME = dd.NAME \n",
    "    where d.UNITS = 'count' and \\\n",
    "        d.YEAR = 2019 and \\\n",
    "        d.GEOTYPE = 'tract' and \\\n",
    "        dd.UNIT_OF_MEASURE in ('persons commuting', 'persons') and \\\n",
    "        d.DEMOGRAPHICS_NAME <> 'TOTPOP'\n",
    "    \"\"\", db_conn)\n",
    "\n",
    "hh = pd.read_sql_query(\n",
    "    \"\"\"select * from demographics d \\\n",
    "    join display_data dd on d.DEMOGRAPHICS_NAME = dd.NAME \n",
    "    where d.UNITS = 'count' and \\\n",
    "        d.YEAR = 2019 and \\\n",
    "        d.GEOTYPE = 'tract' and \\\n",
    "        dd.UNIT_OF_MEASURE = 'households' and \\\n",
    "        d.DEMOGRAPHICS_NAME <> 'HH'\n",
    "    \"\"\", db_conn)\n",
    "\n",
    "hu = pd.read_sql_query(\n",
    "    \"\"\"select * from demographics d \\\n",
    "    join display_data dd on d.DEMOGRAPHICS_NAME = dd.NAME \n",
    "    where d.UNITS = 'count' and \\\n",
    "        d.YEAR = 2019 and \\\n",
    "        d.GEOTYPE = 'tract' and \\\n",
    "        dd.UNIT_OF_MEASURE = 'housing units' and \\\n",
    "        d.DEMOGRAPHICS_NAME <> 'HU'\n",
    "    \"\"\", db_conn)\n",
    "\n",
    "dollars = pd.read_sql_query(\n",
    "    \"\"\"select * from demographics d \\\n",
    "    join display_data dd on d.DEMOGRAPHICS_NAME = dd.NAME \n",
    "    where d.YEAR = 2019 and \\\n",
    "        d.GEOTYPE = 'tract' and \\\n",
    "        dd.UNIT_OF_MEASURE = 'dollars'\n",
    "    \"\"\", db_conn)"
   ]
  },
  {
   "cell_type": "code",
   "execution_count": 19,
   "metadata": {},
   "outputs": [],
   "source": [
    "demo_data = pd.concat(\n",
    "    [\n",
    "        people[['GEOID', 'DEMOGRAPHICS_NAME', 'VALUE']], \n",
    "        hh[['GEOID', 'DEMOGRAPHICS_NAME', 'VALUE']],\n",
    "        hu[['GEOID', 'DEMOGRAPHICS_NAME', 'VALUE']]\n",
    "    ]\n",
    ")\n",
    "data_wide = pd.pivot(demo_data, index='GEOID', columns='DEMOGRAPHICS_NAME', values='VALUE').reset_index()"
   ]
  },
  {
   "cell_type": "code",
   "execution_count": 20,
   "metadata": {},
   "outputs": [
    {
     "data": {
      "text/html": [
       "<div>\n",
       "<style scoped>\n",
       "    .dataframe tbody tr th:only-of-type {\n",
       "        vertical-align: middle;\n",
       "    }\n",
       "\n",
       "    .dataframe tbody tr th {\n",
       "        vertical-align: top;\n",
       "    }\n",
       "\n",
       "    .dataframe thead th {\n",
       "        text-align: right;\n",
       "    }\n",
       "</style>\n",
       "<table border=\"1\" class=\"dataframe\">\n",
       "  <thead>\n",
       "    <tr style=\"text-align: right;\">\n",
       "      <th>DEMOGRAPHICS_NAME</th>\n",
       "      <th>GEOID</th>\n",
       "      <th>10_14_MIN</th>\n",
       "      <th>15_19_MIN</th>\n",
       "      <th>20_24_MIN</th>\n",
       "      <th>25_29_MIN</th>\n",
       "      <th>30_34_MIN</th>\n",
       "      <th>35_39_MIN</th>\n",
       "      <th>40_44_MIN</th>\n",
       "      <th>45_59_MIN</th>\n",
       "      <th>5LESS_MIN</th>\n",
       "      <th>...</th>\n",
       "      <th>NOVEH</th>\n",
       "      <th>OTHER_RACE_ALONE</th>\n",
       "      <th>POV</th>\n",
       "      <th>RENTER_OCCUPIED_HU</th>\n",
       "      <th>TOTAL_COMMUTE_POP</th>\n",
       "      <th>TWO_OR_MORE_RACES</th>\n",
       "      <th>UNEMP</th>\n",
       "      <th>UNINSUR</th>\n",
       "      <th>WHITE_ALONE</th>\n",
       "      <th>WHITE_ALONE_NOT_HISPANIC_LATINO</th>\n",
       "    </tr>\n",
       "  </thead>\n",
       "  <tbody>\n",
       "    <tr>\n",
       "      <th>0</th>\n",
       "      <td>48001950100</td>\n",
       "      <td>138.0</td>\n",
       "      <td>147.0</td>\n",
       "      <td>222.0</td>\n",
       "      <td>105.0</td>\n",
       "      <td>368.0</td>\n",
       "      <td>127.0</td>\n",
       "      <td>59.0</td>\n",
       "      <td>162.0</td>\n",
       "      <td>64.0</td>\n",
       "      <td>...</td>\n",
       "      <td>52.0</td>\n",
       "      <td>59.0</td>\n",
       "      <td>780.0</td>\n",
       "      <td>210.0</td>\n",
       "      <td>1672.0</td>\n",
       "      <td>114.0</td>\n",
       "      <td>53.0</td>\n",
       "      <td>533.0</td>\n",
       "      <td>4341.0</td>\n",
       "      <td>3823.0</td>\n",
       "    </tr>\n",
       "    <tr>\n",
       "      <th>1</th>\n",
       "      <td>48001950401</td>\n",
       "      <td>0.0</td>\n",
       "      <td>16.0</td>\n",
       "      <td>18.0</td>\n",
       "      <td>11.0</td>\n",
       "      <td>0.0</td>\n",
       "      <td>5.0</td>\n",
       "      <td>0.0</td>\n",
       "      <td>10.0</td>\n",
       "      <td>39.0</td>\n",
       "      <td>...</td>\n",
       "      <td>0.0</td>\n",
       "      <td>18.0</td>\n",
       "      <td>0.0</td>\n",
       "      <td>58.0</td>\n",
       "      <td>145.0</td>\n",
       "      <td>43.0</td>\n",
       "      <td>0.0</td>\n",
       "      <td>79.0</td>\n",
       "      <td>2872.0</td>\n",
       "      <td>1678.0</td>\n",
       "    </tr>\n",
       "    <tr>\n",
       "      <th>2</th>\n",
       "      <td>48001950402</td>\n",
       "      <td>23.0</td>\n",
       "      <td>4.0</td>\n",
       "      <td>13.0</td>\n",
       "      <td>0.0</td>\n",
       "      <td>0.0</td>\n",
       "      <td>0.0</td>\n",
       "      <td>0.0</td>\n",
       "      <td>0.0</td>\n",
       "      <td>111.0</td>\n",
       "      <td>...</td>\n",
       "      <td>0.0</td>\n",
       "      <td>0.0</td>\n",
       "      <td>44.0</td>\n",
       "      <td>97.0</td>\n",
       "      <td>163.0</td>\n",
       "      <td>15.0</td>\n",
       "      <td>4.0</td>\n",
       "      <td>11.0</td>\n",
       "      <td>4400.0</td>\n",
       "      <td>2664.0</td>\n",
       "    </tr>\n",
       "    <tr>\n",
       "      <th>3</th>\n",
       "      <td>48001950500</td>\n",
       "      <td>548.0</td>\n",
       "      <td>268.0</td>\n",
       "      <td>115.0</td>\n",
       "      <td>234.0</td>\n",
       "      <td>102.0</td>\n",
       "      <td>56.0</td>\n",
       "      <td>0.0</td>\n",
       "      <td>118.0</td>\n",
       "      <td>56.0</td>\n",
       "      <td>...</td>\n",
       "      <td>138.0</td>\n",
       "      <td>281.0</td>\n",
       "      <td>854.0</td>\n",
       "      <td>667.0</td>\n",
       "      <td>1900.0</td>\n",
       "      <td>164.0</td>\n",
       "      <td>113.0</td>\n",
       "      <td>658.0</td>\n",
       "      <td>2982.0</td>\n",
       "      <td>1613.0</td>\n",
       "    </tr>\n",
       "    <tr>\n",
       "      <th>4</th>\n",
       "      <td>48001950600</td>\n",
       "      <td>642.0</td>\n",
       "      <td>315.0</td>\n",
       "      <td>271.0</td>\n",
       "      <td>45.0</td>\n",
       "      <td>222.0</td>\n",
       "      <td>11.0</td>\n",
       "      <td>36.0</td>\n",
       "      <td>106.0</td>\n",
       "      <td>134.0</td>\n",
       "      <td>...</td>\n",
       "      <td>293.0</td>\n",
       "      <td>0.0</td>\n",
       "      <td>880.0</td>\n",
       "      <td>648.0</td>\n",
       "      <td>2251.0</td>\n",
       "      <td>54.0</td>\n",
       "      <td>109.0</td>\n",
       "      <td>1035.0</td>\n",
       "      <td>3549.0</td>\n",
       "      <td>3384.0</td>\n",
       "    </tr>\n",
       "  </tbody>\n",
       "</table>\n",
       "<p>5 rows × 38 columns</p>\n",
       "</div>"
      ],
      "text/plain": [
       "DEMOGRAPHICS_NAME        GEOID  10_14_MIN  15_19_MIN  20_24_MIN  25_29_MIN  \\\n",
       "0                  48001950100      138.0      147.0      222.0      105.0   \n",
       "1                  48001950401        0.0       16.0       18.0       11.0   \n",
       "2                  48001950402       23.0        4.0       13.0        0.0   \n",
       "3                  48001950500      548.0      268.0      115.0      234.0   \n",
       "4                  48001950600      642.0      315.0      271.0       45.0   \n",
       "\n",
       "DEMOGRAPHICS_NAME  30_34_MIN  35_39_MIN  40_44_MIN  45_59_MIN  5LESS_MIN  ...  \\\n",
       "0                      368.0      127.0       59.0      162.0       64.0  ...   \n",
       "1                        0.0        5.0        0.0       10.0       39.0  ...   \n",
       "2                        0.0        0.0        0.0        0.0      111.0  ...   \n",
       "3                      102.0       56.0        0.0      118.0       56.0  ...   \n",
       "4                      222.0       11.0       36.0      106.0      134.0  ...   \n",
       "\n",
       "DEMOGRAPHICS_NAME  NOVEH  OTHER_RACE_ALONE    POV  RENTER_OCCUPIED_HU  \\\n",
       "0                   52.0              59.0  780.0               210.0   \n",
       "1                    0.0              18.0    0.0                58.0   \n",
       "2                    0.0               0.0   44.0                97.0   \n",
       "3                  138.0             281.0  854.0               667.0   \n",
       "4                  293.0               0.0  880.0               648.0   \n",
       "\n",
       "DEMOGRAPHICS_NAME  TOTAL_COMMUTE_POP  TWO_OR_MORE_RACES  UNEMP  UNINSUR  \\\n",
       "0                             1672.0              114.0   53.0    533.0   \n",
       "1                              145.0               43.0    0.0     79.0   \n",
       "2                              163.0               15.0    4.0     11.0   \n",
       "3                             1900.0              164.0  113.0    658.0   \n",
       "4                             2251.0               54.0  109.0   1035.0   \n",
       "\n",
       "DEMOGRAPHICS_NAME  WHITE_ALONE  WHITE_ALONE_NOT_HISPANIC_LATINO  \n",
       "0                       4341.0                           3823.0  \n",
       "1                       2872.0                           1678.0  \n",
       "2                       4400.0                           2664.0  \n",
       "3                       2982.0                           1613.0  \n",
       "4                       3549.0                           3384.0  \n",
       "\n",
       "[5 rows x 38 columns]"
      ]
     },
     "execution_count": 20,
     "metadata": {},
     "output_type": "execute_result"
    }
   ],
   "source": [
    "data_wide.head()"
   ]
  },
  {
   "cell_type": "code",
   "execution_count": 21,
   "metadata": {},
   "outputs": [],
   "source": [
    "calc_columns = data_wide.columns[data_wide.columns != 'GEOID']"
   ]
  },
  {
   "cell_type": "code",
   "execution_count": 22,
   "metadata": {},
   "outputs": [
    {
     "data": {
      "text/plain": [
       "Index(['10_14_MIN', '15_19_MIN', '20_24_MIN', '25_29_MIN', '30_34_MIN',\n",
       "       '35_39_MIN', '40_44_MIN', '45_59_MIN', '5LESS_MIN', '5_9_MIN',\n",
       "       '60_89_MIN', '90PLUS_MIN', 'AGE17', 'AGE65',\n",
       "       'AMERICAN_INDIAN_ALASKA_NATIVE_ALONE', 'ASIAN_ALONE',\n",
       "       'BLACK_AFRICAN_AMERICAN_ALONE', 'CROWD', 'DISABL', 'FOREIGN_BORN',\n",
       "       'GROUPQ', 'HISPANIC_LATINO', 'LIMENG', 'MINRTY', 'MOBILE',\n",
       "       'NATIVE_HAWAIIAN_OTHER_PACIFIC_ISLANDER_ALONE', 'NOHSDP', 'NOVEH',\n",
       "       'OTHER_RACE_ALONE', 'POV', 'RENTER_OCCUPIED_HU', 'TOTAL_COMMUTE_POP',\n",
       "       'TWO_OR_MORE_RACES', 'UNEMP', 'UNINSUR', 'WHITE_ALONE',\n",
       "       'WHITE_ALONE_NOT_HISPANIC_LATINO'],\n",
       "      dtype='object', name='DEMOGRAPHICS_NAME')"
      ]
     },
     "execution_count": 22,
     "metadata": {},
     "output_type": "execute_result"
    }
   ],
   "source": [
    "calc_columns"
   ]
  },
  {
   "cell_type": "markdown",
   "metadata": {},
   "source": [
    "From here the joins are too expensive and require Frontera."
   ]
  },
  {
   "cell_type": "code",
   "execution_count": 23,
   "metadata": {},
   "outputs": [
    {
     "ename": "KeyboardInterrupt",
     "evalue": "",
     "output_type": "error",
     "traceback": [
      "\u001b[0;31m---------------------------------------------------------------------------\u001b[0m",
      "\u001b[0;31mKeyboardInterrupt\u001b[0m                         Traceback (most recent call last)",
      "\u001b[0;32m<ipython-input-23-8b4e1e9107a9>\u001b[0m in \u001b[0;36m<module>\u001b[0;34m\u001b[0m\n\u001b[0;32m----> 1\u001b[0;31m \u001b[0mrdf_tract_svi\u001b[0m \u001b[0;34m=\u001b[0m \u001b[0mpd\u001b[0m\u001b[0;34m.\u001b[0m\u001b[0mmerge\u001b[0m\u001b[0;34m(\u001b[0m\u001b[0mrdf_tract\u001b[0m\u001b[0;34m,\u001b[0m \u001b[0mdata_wide\u001b[0m\u001b[0;34m,\u001b[0m \u001b[0mon\u001b[0m\u001b[0;34m=\u001b[0m\u001b[0;34m'GEOID'\u001b[0m\u001b[0;34m,\u001b[0m \u001b[0mhow\u001b[0m\u001b[0;34m=\u001b[0m\u001b[0;34m'left'\u001b[0m\u001b[0;34m)\u001b[0m\u001b[0;34m\u001b[0m\u001b[0;34m\u001b[0m\u001b[0m\n\u001b[0m",
      "\u001b[0;32m~/demographic-toolkit/demo-venv/lib/python3.7/site-packages/pandas/core/reshape/merge.py\u001b[0m in \u001b[0;36mmerge\u001b[0;34m(left, right, how, on, left_on, right_on, left_index, right_index, sort, suffixes, copy, indicator, validate)\u001b[0m\n\u001b[1;32m     87\u001b[0m         \u001b[0mvalidate\u001b[0m\u001b[0;34m=\u001b[0m\u001b[0mvalidate\u001b[0m\u001b[0;34m,\u001b[0m\u001b[0;34m\u001b[0m\u001b[0;34m\u001b[0m\u001b[0m\n\u001b[1;32m     88\u001b[0m     )\n\u001b[0;32m---> 89\u001b[0;31m     \u001b[0;32mreturn\u001b[0m \u001b[0mop\u001b[0m\u001b[0;34m.\u001b[0m\u001b[0mget_result\u001b[0m\u001b[0;34m(\u001b[0m\u001b[0;34m)\u001b[0m\u001b[0;34m\u001b[0m\u001b[0;34m\u001b[0m\u001b[0m\n\u001b[0m\u001b[1;32m     90\u001b[0m \u001b[0;34m\u001b[0m\u001b[0m\n\u001b[1;32m     91\u001b[0m \u001b[0;34m\u001b[0m\u001b[0m\n",
      "\u001b[0;32m~/demographic-toolkit/demo-venv/lib/python3.7/site-packages/pandas/core/reshape/merge.py\u001b[0m in \u001b[0;36mget_result\u001b[0;34m(self)\u001b[0m\n\u001b[1;32m    683\u001b[0m \u001b[0;34m\u001b[0m\u001b[0m\n\u001b[1;32m    684\u001b[0m         \u001b[0mtyp\u001b[0m \u001b[0;34m=\u001b[0m \u001b[0mself\u001b[0m\u001b[0;34m.\u001b[0m\u001b[0mleft\u001b[0m\u001b[0;34m.\u001b[0m\u001b[0m_constructor\u001b[0m\u001b[0;34m\u001b[0m\u001b[0;34m\u001b[0m\u001b[0m\n\u001b[0;32m--> 685\u001b[0;31m         \u001b[0mresult\u001b[0m \u001b[0;34m=\u001b[0m \u001b[0mtyp\u001b[0m\u001b[0;34m(\u001b[0m\u001b[0mresult_data\u001b[0m\u001b[0;34m)\u001b[0m\u001b[0;34m.\u001b[0m\u001b[0m__finalize__\u001b[0m\u001b[0;34m(\u001b[0m\u001b[0mself\u001b[0m\u001b[0;34m,\u001b[0m \u001b[0mmethod\u001b[0m\u001b[0;34m=\u001b[0m\u001b[0mself\u001b[0m\u001b[0;34m.\u001b[0m\u001b[0m_merge_type\u001b[0m\u001b[0;34m)\u001b[0m\u001b[0;34m\u001b[0m\u001b[0;34m\u001b[0m\u001b[0m\n\u001b[0m\u001b[1;32m    686\u001b[0m \u001b[0;34m\u001b[0m\u001b[0m\n\u001b[1;32m    687\u001b[0m         \u001b[0;32mif\u001b[0m \u001b[0mself\u001b[0m\u001b[0;34m.\u001b[0m\u001b[0mindicator\u001b[0m\u001b[0;34m:\u001b[0m\u001b[0;34m\u001b[0m\u001b[0;34m\u001b[0m\u001b[0m\n",
      "\u001b[0;32m~/demographic-toolkit/demo-venv/lib/python3.7/site-packages/spatialpandas/geodataframe.py\u001b[0m in \u001b[0;36m__new__\u001b[0;34m(cls, *args, **kwargs)\u001b[0m\n\u001b[1;32m      9\u001b[0m     \u001b[0;32mdef\u001b[0m \u001b[0m__new__\u001b[0m\u001b[0;34m(\u001b[0m\u001b[0mcls\u001b[0m\u001b[0;34m,\u001b[0m \u001b[0;34m*\u001b[0m\u001b[0margs\u001b[0m\u001b[0;34m,\u001b[0m \u001b[0;34m**\u001b[0m\u001b[0mkwargs\u001b[0m\u001b[0;34m)\u001b[0m\u001b[0;34m:\u001b[0m\u001b[0;34m\u001b[0m\u001b[0;34m\u001b[0m\u001b[0m\n\u001b[1;32m     10\u001b[0m         \u001b[0;32mtry\u001b[0m\u001b[0;34m:\u001b[0m\u001b[0;34m\u001b[0m\u001b[0;34m\u001b[0m\u001b[0m\n\u001b[0;32m---> 11\u001b[0;31m             \u001b[0;32mreturn\u001b[0m \u001b[0mGeoDataFrame\u001b[0m\u001b[0;34m(\u001b[0m\u001b[0;34m*\u001b[0m\u001b[0margs\u001b[0m\u001b[0;34m,\u001b[0m \u001b[0;34m**\u001b[0m\u001b[0mkwargs\u001b[0m\u001b[0;34m)\u001b[0m\u001b[0;34m\u001b[0m\u001b[0;34m\u001b[0m\u001b[0m\n\u001b[0m\u001b[1;32m     12\u001b[0m         \u001b[0;32mexcept\u001b[0m \u001b[0mValueError\u001b[0m\u001b[0;34m:\u001b[0m\u001b[0;34m\u001b[0m\u001b[0;34m\u001b[0m\u001b[0m\n\u001b[1;32m     13\u001b[0m             \u001b[0;31m# No geometry compatible columns\u001b[0m\u001b[0;34m\u001b[0m\u001b[0;34m\u001b[0m\u001b[0;34m\u001b[0m\u001b[0m\n",
      "\u001b[0;32m~/demographic-toolkit/demo-venv/lib/python3.7/site-packages/spatialpandas/geodataframe.py\u001b[0m in \u001b[0;36m__init__\u001b[0;34m(self, data, index, geometry, **kwargs)\u001b[0m\n\u001b[1;32m     22\u001b[0m         \u001b[0;31m# Call pandas constructor, always copy\u001b[0m\u001b[0;34m\u001b[0m\u001b[0;34m\u001b[0m\u001b[0;34m\u001b[0m\u001b[0m\n\u001b[1;32m     23\u001b[0m         \u001b[0mkwargs\u001b[0m\u001b[0;34m.\u001b[0m\u001b[0mpop\u001b[0m\u001b[0;34m(\u001b[0m\u001b[0;34m\"copy\"\u001b[0m\u001b[0;34m,\u001b[0m \u001b[0;32mNone\u001b[0m\u001b[0;34m)\u001b[0m\u001b[0;34m\u001b[0m\u001b[0;34m\u001b[0m\u001b[0m\n\u001b[0;32m---> 24\u001b[0;31m         \u001b[0msuper\u001b[0m\u001b[0;34m(\u001b[0m\u001b[0;34m)\u001b[0m\u001b[0;34m.\u001b[0m\u001b[0m__init__\u001b[0m\u001b[0;34m(\u001b[0m\u001b[0mdata\u001b[0m\u001b[0;34m,\u001b[0m \u001b[0mindex\u001b[0m\u001b[0;34m=\u001b[0m\u001b[0mindex\u001b[0m\u001b[0;34m,\u001b[0m \u001b[0mcopy\u001b[0m\u001b[0;34m=\u001b[0m\u001b[0;32mTrue\u001b[0m\u001b[0;34m,\u001b[0m \u001b[0;34m**\u001b[0m\u001b[0mkwargs\u001b[0m\u001b[0;34m)\u001b[0m\u001b[0;34m\u001b[0m\u001b[0;34m\u001b[0m\u001b[0m\n\u001b[0m\u001b[1;32m     25\u001b[0m \u001b[0;34m\u001b[0m\u001b[0m\n\u001b[1;32m     26\u001b[0m         \u001b[0;31m# Replace pd.Series of GeometryArrays with GeoSeries.\u001b[0m\u001b[0;34m\u001b[0m\u001b[0;34m\u001b[0m\u001b[0;34m\u001b[0m\u001b[0m\n",
      "\u001b[0;32m~/demographic-toolkit/demo-venv/lib/python3.7/site-packages/pandas/core/frame.py\u001b[0m in \u001b[0;36m__init__\u001b[0;34m(self, data, index, columns, dtype, copy)\u001b[0m\n\u001b[1;32m    462\u001b[0m \u001b[0;34m\u001b[0m\u001b[0m\n\u001b[1;32m    463\u001b[0m             mgr = self._init_mgr(\n\u001b[0;32m--> 464\u001b[0;31m                 \u001b[0mdata\u001b[0m\u001b[0;34m,\u001b[0m \u001b[0maxes\u001b[0m\u001b[0;34m=\u001b[0m\u001b[0mdict\u001b[0m\u001b[0;34m(\u001b[0m\u001b[0mindex\u001b[0m\u001b[0;34m=\u001b[0m\u001b[0mindex\u001b[0m\u001b[0;34m,\u001b[0m \u001b[0mcolumns\u001b[0m\u001b[0;34m=\u001b[0m\u001b[0mcolumns\u001b[0m\u001b[0;34m)\u001b[0m\u001b[0;34m,\u001b[0m \u001b[0mdtype\u001b[0m\u001b[0;34m=\u001b[0m\u001b[0mdtype\u001b[0m\u001b[0;34m,\u001b[0m \u001b[0mcopy\u001b[0m\u001b[0;34m=\u001b[0m\u001b[0mcopy\u001b[0m\u001b[0;34m\u001b[0m\u001b[0;34m\u001b[0m\u001b[0m\n\u001b[0m\u001b[1;32m    465\u001b[0m             )\n\u001b[1;32m    466\u001b[0m \u001b[0;34m\u001b[0m\u001b[0m\n",
      "\u001b[0;32m~/demographic-toolkit/demo-venv/lib/python3.7/site-packages/pandas/core/generic.py\u001b[0m in \u001b[0;36m_init_mgr\u001b[0;34m(cls, mgr, axes, dtype, copy)\u001b[0m\n\u001b[1;32m    221\u001b[0m         \u001b[0;31m# make a copy if explicitly requested\u001b[0m\u001b[0;34m\u001b[0m\u001b[0;34m\u001b[0m\u001b[0;34m\u001b[0m\u001b[0m\n\u001b[1;32m    222\u001b[0m         \u001b[0;32mif\u001b[0m \u001b[0mcopy\u001b[0m\u001b[0;34m:\u001b[0m\u001b[0;34m\u001b[0m\u001b[0;34m\u001b[0m\u001b[0m\n\u001b[0;32m--> 223\u001b[0;31m             \u001b[0mmgr\u001b[0m \u001b[0;34m=\u001b[0m \u001b[0mmgr\u001b[0m\u001b[0;34m.\u001b[0m\u001b[0mcopy\u001b[0m\u001b[0;34m(\u001b[0m\u001b[0;34m)\u001b[0m\u001b[0;34m\u001b[0m\u001b[0;34m\u001b[0m\u001b[0m\n\u001b[0m\u001b[1;32m    224\u001b[0m         \u001b[0;32mif\u001b[0m \u001b[0mdtype\u001b[0m \u001b[0;32mis\u001b[0m \u001b[0;32mnot\u001b[0m \u001b[0;32mNone\u001b[0m\u001b[0;34m:\u001b[0m\u001b[0;34m\u001b[0m\u001b[0;34m\u001b[0m\u001b[0m\n\u001b[1;32m    225\u001b[0m             \u001b[0;31m# avoid further copies if we can\u001b[0m\u001b[0;34m\u001b[0m\u001b[0;34m\u001b[0m\u001b[0;34m\u001b[0m\u001b[0m\n",
      "\u001b[0;32m~/demographic-toolkit/demo-venv/lib/python3.7/site-packages/pandas/core/internals/managers.py\u001b[0m in \u001b[0;36mcopy\u001b[0;34m(self, deep)\u001b[0m\n\u001b[1;32m    809\u001b[0m             \u001b[0mnew_axes\u001b[0m \u001b[0;34m=\u001b[0m \u001b[0mlist\u001b[0m\u001b[0;34m(\u001b[0m\u001b[0mself\u001b[0m\u001b[0;34m.\u001b[0m\u001b[0maxes\u001b[0m\u001b[0;34m)\u001b[0m\u001b[0;34m\u001b[0m\u001b[0;34m\u001b[0m\u001b[0m\n\u001b[1;32m    810\u001b[0m \u001b[0;34m\u001b[0m\u001b[0m\n\u001b[0;32m--> 811\u001b[0;31m         \u001b[0mres\u001b[0m \u001b[0;34m=\u001b[0m \u001b[0mself\u001b[0m\u001b[0;34m.\u001b[0m\u001b[0mapply\u001b[0m\u001b[0;34m(\u001b[0m\u001b[0;34m\"copy\"\u001b[0m\u001b[0;34m,\u001b[0m \u001b[0mdeep\u001b[0m\u001b[0;34m=\u001b[0m\u001b[0mdeep\u001b[0m\u001b[0;34m)\u001b[0m\u001b[0;34m\u001b[0m\u001b[0;34m\u001b[0m\u001b[0m\n\u001b[0m\u001b[1;32m    812\u001b[0m         \u001b[0mres\u001b[0m\u001b[0;34m.\u001b[0m\u001b[0maxes\u001b[0m \u001b[0;34m=\u001b[0m \u001b[0mnew_axes\u001b[0m\u001b[0;34m\u001b[0m\u001b[0;34m\u001b[0m\u001b[0m\n\u001b[1;32m    813\u001b[0m         \u001b[0;32mreturn\u001b[0m \u001b[0mres\u001b[0m\u001b[0;34m\u001b[0m\u001b[0;34m\u001b[0m\u001b[0m\n",
      "\u001b[0;32m~/demographic-toolkit/demo-venv/lib/python3.7/site-packages/pandas/core/internals/managers.py\u001b[0m in \u001b[0;36mapply\u001b[0;34m(self, f, align_keys, **kwargs)\u001b[0m\n\u001b[1;32m    407\u001b[0m                 \u001b[0mapplied\u001b[0m \u001b[0;34m=\u001b[0m \u001b[0mb\u001b[0m\u001b[0;34m.\u001b[0m\u001b[0mapply\u001b[0m\u001b[0;34m(\u001b[0m\u001b[0mf\u001b[0m\u001b[0;34m,\u001b[0m \u001b[0;34m**\u001b[0m\u001b[0mkwargs\u001b[0m\u001b[0;34m)\u001b[0m\u001b[0;34m\u001b[0m\u001b[0;34m\u001b[0m\u001b[0m\n\u001b[1;32m    408\u001b[0m             \u001b[0;32melse\u001b[0m\u001b[0;34m:\u001b[0m\u001b[0;34m\u001b[0m\u001b[0;34m\u001b[0m\u001b[0m\n\u001b[0;32m--> 409\u001b[0;31m                 \u001b[0mapplied\u001b[0m \u001b[0;34m=\u001b[0m \u001b[0mgetattr\u001b[0m\u001b[0;34m(\u001b[0m\u001b[0mb\u001b[0m\u001b[0;34m,\u001b[0m \u001b[0mf\u001b[0m\u001b[0;34m)\u001b[0m\u001b[0;34m(\u001b[0m\u001b[0;34m**\u001b[0m\u001b[0mkwargs\u001b[0m\u001b[0;34m)\u001b[0m\u001b[0;34m\u001b[0m\u001b[0;34m\u001b[0m\u001b[0m\n\u001b[0m\u001b[1;32m    410\u001b[0m             \u001b[0mresult_blocks\u001b[0m \u001b[0;34m=\u001b[0m \u001b[0m_extend_blocks\u001b[0m\u001b[0;34m(\u001b[0m\u001b[0mapplied\u001b[0m\u001b[0;34m,\u001b[0m \u001b[0mresult_blocks\u001b[0m\u001b[0;34m)\u001b[0m\u001b[0;34m\u001b[0m\u001b[0;34m\u001b[0m\u001b[0m\n\u001b[1;32m    411\u001b[0m \u001b[0;34m\u001b[0m\u001b[0m\n",
      "\u001b[0;32m~/demographic-toolkit/demo-venv/lib/python3.7/site-packages/pandas/core/internals/blocks.py\u001b[0m in \u001b[0;36mcopy\u001b[0;34m(self, deep)\u001b[0m\n\u001b[1;32m    677\u001b[0m         \u001b[0mvalues\u001b[0m \u001b[0;34m=\u001b[0m \u001b[0mself\u001b[0m\u001b[0;34m.\u001b[0m\u001b[0mvalues\u001b[0m\u001b[0;34m\u001b[0m\u001b[0;34m\u001b[0m\u001b[0m\n\u001b[1;32m    678\u001b[0m         \u001b[0;32mif\u001b[0m \u001b[0mdeep\u001b[0m\u001b[0;34m:\u001b[0m\u001b[0;34m\u001b[0m\u001b[0;34m\u001b[0m\u001b[0m\n\u001b[0;32m--> 679\u001b[0;31m             \u001b[0mvalues\u001b[0m \u001b[0;34m=\u001b[0m \u001b[0mvalues\u001b[0m\u001b[0;34m.\u001b[0m\u001b[0mcopy\u001b[0m\u001b[0;34m(\u001b[0m\u001b[0;34m)\u001b[0m\u001b[0;34m\u001b[0m\u001b[0;34m\u001b[0m\u001b[0m\n\u001b[0m\u001b[1;32m    680\u001b[0m         \u001b[0;32mreturn\u001b[0m \u001b[0mself\u001b[0m\u001b[0;34m.\u001b[0m\u001b[0mmake_block_same_class\u001b[0m\u001b[0;34m(\u001b[0m\u001b[0mvalues\u001b[0m\u001b[0;34m,\u001b[0m \u001b[0mndim\u001b[0m\u001b[0;34m=\u001b[0m\u001b[0mself\u001b[0m\u001b[0;34m.\u001b[0m\u001b[0mndim\u001b[0m\u001b[0;34m)\u001b[0m\u001b[0;34m\u001b[0m\u001b[0;34m\u001b[0m\u001b[0m\n\u001b[1;32m    681\u001b[0m \u001b[0;34m\u001b[0m\u001b[0m\n",
      "\u001b[0;31mKeyboardInterrupt\u001b[0m: "
     ]
    }
   ],
   "source": [
    "rdf_tract_svi = pd.merge(rdf_tract, data_wide, on='GEOID', how='left')"
   ]
  },
  {
   "cell_type": "code",
   "execution_count": null,
   "metadata": {},
   "outputs": [],
   "source": []
  }
 ],
 "metadata": {
  "kernelspec": {
   "display_name": "demo-venv",
   "language": "python",
   "name": "demo-venv"
  },
  "language_info": {
   "codemirror_mode": {
    "name": "ipython",
    "version": 3
   },
   "file_extension": ".py",
   "mimetype": "text/x-python",
   "name": "python",
   "nbconvert_exporter": "python",
   "pygments_lexer": "ipython3",
   "version": "3.7.12"
  }
 },
 "nbformat": 4,
 "nbformat_minor": 4
}
